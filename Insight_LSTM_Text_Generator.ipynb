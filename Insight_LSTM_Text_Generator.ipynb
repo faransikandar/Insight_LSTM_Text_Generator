{
  "nbformat": 4,
  "nbformat_minor": 0,
  "metadata": {
    "colab": {
      "name": "Insight_AI_LSTM_Text_Generator",
      "version": "0.3.2",
      "provenance": [],
      "collapsed_sections": [],
      "toc_visible": true,
      "include_colab_link": true
    },
    "kernelspec": {
      "name": "python3",
      "display_name": "Python 3"
    },
    "accelerator": "GPU"
  },
  "cells": [
    {
      "cell_type": "markdown",
      "metadata": {
        "id": "view-in-github",
        "colab_type": "text"
      },
      "source": [
        "<a href=\"https://colab.research.google.com/github/faransikandar/Insight_AI_LSTM_Text_Generator/blob/master/Insight_AI_LSTM_Text_Generator.ipynb\" target=\"_parent\"><img src=\"https://colab.research.google.com/assets/colab-badge.svg\" alt=\"Open In Colab\"/></a>"
      ]
    },
    {
      "metadata": {
        "id": "Kpb7uTnwC06y",
        "colab_type": "text"
      },
      "cell_type": "markdown",
      "source": [
        "# LSTM Text Generator\n",
        "\n",
        "## Faran Sikandar\n",
        "## 4/10/2019"
      ]
    },
    {
      "metadata": {
        "id": "BLu14IKNwDWy",
        "colab_type": "text"
      },
      "cell_type": "markdown",
      "source": [
        "# Preliminaries:\n",
        "\n",
        "Thanks to tutorials:\n",
        "\n",
        "https://machinelearningmastery.com/text-generation-lstm-recurrent-neural-networks-python-keras/\n",
        "\n",
        "https://machinelearningmastery.com/how-to-develop-a-word-level-neural-language-model-in-keras/\n",
        "\n",
        "http://colah.github.io/posts/2015-08-Understanding-LSTMs/img/LSTM3-chain.png"
      ]
    },
    {
      "metadata": {
        "id": "mheHY6QAd-wk",
        "colab_type": "text"
      },
      "cell_type": "markdown",
      "source": [
        "![alt text](http://colah.github.io/posts/2015-08-Understanding-LSTMs/img/LSTM3-chain.png)"
      ]
    },
    {
      "metadata": {
        "id": "J5amdAP2DlEq",
        "colab_type": "text"
      },
      "cell_type": "markdown",
      "source": [
        "# Check Libraries"
      ]
    },
    {
      "metadata": {
        "id": "jB64ZlAQDEq_",
        "colab_type": "code",
        "outputId": "6c65771a-c2f7-48a4-97f1-ef3c49234814",
        "colab": {
          "base_uri": "https://localhost:8080/",
          "height": 207
        }
      },
      "cell_type": "code",
      "source": [
        "# show which version of keras working\n",
        "!pip show tensorflow"
      ],
      "execution_count": 2,
      "outputs": [
        {
          "output_type": "stream",
          "text": [
            "Name: tensorflow\n",
            "Version: 1.13.1\n",
            "Summary: TensorFlow is an open source machine learning framework for everyone.\n",
            "Home-page: https://www.tensorflow.org/\n",
            "Author: Google Inc.\n",
            "Author-email: opensource@google.com\n",
            "License: Apache 2.0\n",
            "Location: /usr/local/lib/python3.6/dist-packages\n",
            "Requires: keras-applications, tensorflow-estimator, absl-py, numpy, six, termcolor, grpcio, gast, wheel, tensorboard, protobuf, keras-preprocessing, astor\n",
            "Required-by: stable-baselines, magenta, fancyimpute\n"
          ],
          "name": "stdout"
        }
      ]
    },
    {
      "metadata": {
        "id": "2SSqGgOoDLnd",
        "colab_type": "code",
        "outputId": "4c1d2471-f552-4c8a-ccde-094245e98e7e",
        "colab": {
          "base_uri": "https://localhost:8080/",
          "height": 187
        }
      },
      "cell_type": "code",
      "source": [
        "# show which hversion of keras\n",
        "!pip show keras"
      ],
      "execution_count": 3,
      "outputs": [
        {
          "output_type": "stream",
          "text": [
            "Name: Keras\n",
            "Version: 2.2.4\n",
            "Summary: Deep Learning for humans\n",
            "Home-page: https://github.com/keras-team/keras\n",
            "Author: Francois Chollet\n",
            "Author-email: francois.chollet@gmail.com\n",
            "License: MIT\n",
            "Location: /usr/local/lib/python3.6/dist-packages\n",
            "Requires: keras-applications, numpy, keras-preprocessing, scipy, six, h5py, pyyaml\n",
            "Required-by: \n"
          ],
          "name": "stdout"
        }
      ]
    },
    {
      "metadata": {
        "id": "gXlLyVBHOS6N",
        "colab_type": "code",
        "colab": {
          "base_uri": "https://localhost:8080/",
          "height": 34
        },
        "outputId": "f88decb5-8702-4463-a91f-308f04934421"
      },
      "cell_type": "code",
      "source": [
        "# check GPU connection\n",
        "import tensorflow as tf\n",
        "device_name = tf.test.gpu_device_name()\n",
        "if device_name != '/device:GPU:0':\n",
        "  raise SystemError('GPU device not found')\n",
        "print('Found GPU at: {}'.format(device_name))"
      ],
      "execution_count": 4,
      "outputs": [
        {
          "output_type": "stream",
          "text": [
            "Found GPU at: /device:GPU:0\n"
          ],
          "name": "stdout"
        }
      ]
    },
    {
      "metadata": {
        "id": "K4wKkZo2DxmJ",
        "colab_type": "text"
      },
      "cell_type": "markdown",
      "source": [
        "# ETL - Extract, Transform, Load"
      ]
    },
    {
      "metadata": {
        "id": "MJlOOElFDgFy",
        "colab_type": "code",
        "colab": {}
      },
      "cell_type": "code",
      "source": [
        "# import libraries\n",
        "import sys\n",
        "import os\n",
        "import numpy as np\n",
        "import matplotlib.pyplot as plt\n",
        "import pickle\n",
        "import nltk\n",
        "from nltk.tokenize import sent_tokenize, word_tokenize\n",
        "from keras.preprocessing.text import Tokenizer\n",
        "from keras.models import Sequential\n",
        "from keras.layers import Embedding\n",
        "from keras.layers import Dense\n",
        "from keras.layers import Dropout\n",
        "from keras.layers import LSTM\n",
        "from keras.callbacks import ModelCheckpoint\n",
        "from keras.utils import np_utils"
      ],
      "execution_count": 0,
      "outputs": []
    },
    {
      "metadata": {
        "id": "4rT9oIUlwbfv",
        "colab_type": "text"
      },
      "cell_type": "markdown",
      "source": [
        "## ETL Pipelines\n",
        "\n",
        "https://colab.research.google.com/notebooks/io.ipynb#scrollTo=1aNyFO958V13\n",
        "https://developers.google.com/drive/api/v3/manage-uploads"
      ]
    },
    {
      "metadata": {
        "id": "ldtPjSeEQvG_",
        "colab_type": "code",
        "colab": {}
      },
      "cell_type": "code",
      "source": [
        "# # upload wonderland.txt file - could also mount Google Drive or use PyDrive, but this is simplest for small files\n",
        "# from google.colab import files\n",
        "\n",
        "# uploaded = files.upload()\n",
        "\n",
        "# for fn in uploaded.keys():\n",
        "#   print('User uploaded file \"{name}\" with length {length} bytes'.format(\n",
        "#       name=fn, length=len(uploaded[fn])))"
      ],
      "execution_count": 0,
      "outputs": []
    },
    {
      "metadata": {
        "id": "O5qW4iej5Gtq",
        "colab_type": "code",
        "colab": {
          "base_uri": "https://localhost:8080/",
          "height": 122
        },
        "outputId": "6afdaee5-39af-406c-a5b7-8da93cbc868f"
      },
      "cell_type": "code",
      "source": [
        "# mount Google Drive locally\n",
        "from google.colab import drive\n",
        "drive.mount('/content/gdrive')"
      ],
      "execution_count": 7,
      "outputs": [
        {
          "output_type": "stream",
          "text": [
            "Go to this URL in a browser: https://accounts.google.com/o/oauth2/auth?client_id=947318989803-6bn6qk8qdgf4n4g3pfee6491hc0brc4i.apps.googleusercontent.com&redirect_uri=urn%3Aietf%3Awg%3Aoauth%3A2.0%3Aoob&scope=email%20https%3A%2F%2Fwww.googleapis.com%2Fauth%2Fdocs.test%20https%3A%2F%2Fwww.googleapis.com%2Fauth%2Fdrive%20https%3A%2F%2Fwww.googleapis.com%2Fauth%2Fdrive.photos.readonly%20https%3A%2F%2Fwww.googleapis.com%2Fauth%2Fpeopleapi.readonly&response_type=code\n",
            "\n",
            "Enter your authorization code:\n",
            "··········\n",
            "Mounted at /content/gdrive\n"
          ],
          "name": "stdout"
        }
      ]
    },
    {
      "metadata": {
        "id": "onBFf4sNBkVa",
        "colab_type": "code",
        "colab": {}
      },
      "cell_type": "code",
      "source": [
        "# set up Drive REST API for more advanced functions\n",
        "\n",
        "# authenticate\n",
        "from google.colab import auth\n",
        "auth.authenticate_user()"
      ],
      "execution_count": 0,
      "outputs": []
    },
    {
      "metadata": {
        "id": "Y6UIm4i_CDdK",
        "colab_type": "code",
        "colab": {}
      },
      "cell_type": "code",
      "source": [
        "# construct Drive API client\n",
        "from googleapiclient.discovery import build\n",
        "drive_service = build('drive', 'v3')"
      ],
      "execution_count": 0,
      "outputs": []
    },
    {
      "metadata": {
        "id": "9aWq0k24wwgQ",
        "colab_type": "text"
      },
      "cell_type": "markdown",
      "source": [
        "## Get the Data"
      ]
    },
    {
      "metadata": {
        "id": "MXPDMPT2Ptio",
        "colab_type": "code",
        "colab": {}
      },
      "cell_type": "code",
      "source": [
        "# function to upload ascii text and convert it to lowercase - return to memory\n",
        "def load_text(filename):\n",
        "  '''\n",
        "  parameters: filename you want to upload\n",
        "  output: text in lowercase\n",
        "  '''\n",
        "  \n",
        "  # open file as read only\n",
        "  f = open(filename, 'r')\n",
        "  # read all text\n",
        "  text = f.read()\n",
        "  text = text.lower()\n",
        "  \n",
        "  # duplicate the text - like bootstrapping!\n",
        "  text = text + ' ' + text\n",
        "  \n",
        "  # close the file\n",
        "  f.close()\n",
        "  return text"
      ],
      "execution_count": 0,
      "outputs": []
    },
    {
      "metadata": {
        "id": "RWkxniH-5Zrr",
        "colab_type": "code",
        "colab": {
          "base_uri": "https://localhost:8080/",
          "height": 238
        },
        "outputId": "9523f550-3e93-48fb-fbb7-12756c995001"
      },
      "cell_type": "code",
      "source": [
        "# upload wonderland.txt from Google Drive and preview\n",
        "in_filename = '/content/gdrive/My Drive/Colab_Notebooks/Insight_AI/data/wonderland.txt'\n",
        "text = load_text(in_filename)\n",
        "print(text[:200])"
      ],
      "execution_count": 11,
      "outputs": [
        {
          "output_type": "stream",
          "text": [
            "alice’s adventures in wonderland\n",
            "\n",
            "lewis carroll\n",
            "\n",
            "the millennium fulcrum edition 3.0\n",
            "\n",
            "\n",
            "\n",
            "\n",
            "chapter i. down the rabbit-hole\n",
            "\n",
            "alice was beginning to get very tired of sitting by her sister on the\n",
            "bank, and\n"
          ],
          "name": "stdout"
        }
      ]
    },
    {
      "metadata": {
        "id": "l9IYObWjR9jx",
        "colab_type": "code",
        "colab": {}
      },
      "cell_type": "code",
      "source": [
        "# function to create mapping of unique chars to integers - this step is faulty as integers imply order to letters - should use one-hot encoding, can remove punctuation\n",
        "def map_char_to_int(text):\n",
        "  '''\n",
        "  parameters: doc from load_doc()\n",
        "  output: chars - all unique chars, \n",
        "          char_to_int mapping (dictionary)\n",
        "          int_to_char mapping (dictionary)\n",
        "  '''\n",
        "\n",
        "  # creates unique list\n",
        "  chars = sorted(list(set(text))) \n",
        "\n",
        "  # create char to int dictionary\n",
        "  char_to_int = dict((c, i) for i, c in enumerate(chars)) # enumerate creates mapping of tuples ((0, 'a',), (1, 'b'), etc)\n",
        "  \n",
        "  # create reverse dictionary to convert ints back to chars - will be used in text generator phase\n",
        "  int_to_char = dict((i, c) for i, c in enumerate(chars))\n",
        "\n",
        "  return (chars, char_to_int, int_to_char)"
      ],
      "execution_count": 0,
      "outputs": []
    },
    {
      "metadata": {
        "id": "TfeKsTpshxUE",
        "colab_type": "code",
        "colab": {
          "base_uri": "https://localhost:8080/",
          "height": 816
        },
        "outputId": "696d84fc-d7a7-46d3-e891-5d635a3b566b"
      },
      "cell_type": "code",
      "source": [
        "# execute mapping of unique chars to integers\n",
        "chars = map_char_to_int(text)[0]\n",
        "char_to_int = map_char_to_int(text)[1]\n",
        "int_to_char = map_char_to_int(text)[2]\n",
        "\n",
        "# check what the dictionaries look like\n",
        "#char_to_int "
      ],
      "execution_count": 13,
      "outputs": [
        {
          "output_type": "execute_result",
          "data": {
            "text/plain": [
              "{'\\n': 0,\n",
              " ' ': 1,\n",
              " '!': 2,\n",
              " '(': 3,\n",
              " ')': 4,\n",
              " '*': 5,\n",
              " ',': 6,\n",
              " '-': 7,\n",
              " '.': 8,\n",
              " '0': 9,\n",
              " '3': 10,\n",
              " ':': 11,\n",
              " ';': 12,\n",
              " '?': 13,\n",
              " '[': 14,\n",
              " ']': 15,\n",
              " '_': 16,\n",
              " 'a': 17,\n",
              " 'b': 18,\n",
              " 'c': 19,\n",
              " 'd': 20,\n",
              " 'e': 21,\n",
              " 'f': 22,\n",
              " 'g': 23,\n",
              " 'h': 24,\n",
              " 'i': 25,\n",
              " 'j': 26,\n",
              " 'k': 27,\n",
              " 'l': 28,\n",
              " 'm': 29,\n",
              " 'n': 30,\n",
              " 'o': 31,\n",
              " 'p': 32,\n",
              " 'q': 33,\n",
              " 'r': 34,\n",
              " 's': 35,\n",
              " 't': 36,\n",
              " 'u': 37,\n",
              " 'v': 38,\n",
              " 'w': 39,\n",
              " 'x': 40,\n",
              " 'y': 41,\n",
              " 'z': 42,\n",
              " '‘': 43,\n",
              " '’': 44,\n",
              " '“': 45,\n",
              " '”': 46}"
            ]
          },
          "metadata": {
            "tags": []
          },
          "execution_count": 13
        }
      ]
    },
    {
      "metadata": {
        "id": "CBJpVzYB30vP",
        "colab_type": "code",
        "colab": {}
      },
      "cell_type": "code",
      "source": [
        "# pickle the characters and dictionaries - will speed up re-modeling and text gen if disconnect from kernel\n",
        "\n",
        "# set file names\n",
        "pickle_chars_filename = '/content/gdrive/My Drive/Colab_Notebooks/Insight_AI/data/wonderland_chars.data'\n",
        "pickle_char_to_int_filename = '/content/gdrive/My Drive/Colab_Notebooks/Insight_AI/data/wonderland_char_to_int.data'\n",
        "pickle_int_to_char_filename = '/content/gdrive/My Drive/Colab_Notebooks/Insight_AI/data/wonderland_int_to_char.data'\n",
        "\n",
        "# chars\n",
        "with open(pickle_chars_filename, 'wb') as filename:  \n",
        "    # store the data as binary data stream\n",
        "    pickle.dump(chars, filename)\n",
        "\n",
        "# char_to_int\n",
        "with open(pickle_char_to_int_filename, 'wb') as filename:  \n",
        "    # store the data as binary data stream\n",
        "    pickle.dump(char_to_int, filename)\n",
        "\n",
        "# int_to_char\n",
        "with open(pickle_int_to_char_filename, 'wb') as filename:  \n",
        "  # store the data as binary data stream\n",
        "  pickle.dump(int_to_char, filename)"
      ],
      "execution_count": 0,
      "outputs": []
    },
    {
      "metadata": {
        "id": "sBTA9d_bYgpD",
        "colab_type": "code",
        "colab": {}
      },
      "cell_type": "code",
      "source": [
        "# summarize the dataset\n",
        "def n_chars_vocab(text, char_to_int):\n",
        "  '''\n",
        "  parameters: text, char_to_int\n",
        "  output: n_chars, n_vocab\n",
        "  '''\n",
        "\n",
        "  # count the chars\n",
        "  n_chars = len(text)\n",
        "  n_vocab = len(chars)\n",
        "  return (n_chars, n_vocab)"
      ],
      "execution_count": 0,
      "outputs": []
    },
    {
      "metadata": {
        "id": "bYzID3XadBN9",
        "colab_type": "code",
        "colab": {
          "base_uri": "https://localhost:8080/",
          "height": 51
        },
        "outputId": "2e97c8ac-f7b3-42ab-9204-f0e277ad458e"
      },
      "cell_type": "code",
      "source": [
        "# try the summary\n",
        "n_chars = n_chars_vocab(text, char_to_int)[0]\n",
        "n_vocab = n_chars_vocab(text, char_to_int)[1]\n",
        "\n",
        "print(\"Total Characters: \", n_chars)\n",
        "print(\"Total Vocab: \", n_vocab)"
      ],
      "execution_count": 16,
      "outputs": [
        {
          "output_type": "stream",
          "text": [
            "Total Characters:  288825\n",
            "Total Vocab:  47\n"
          ],
          "name": "stdout"
        }
      ]
    },
    {
      "metadata": {
        "id": "Wn05XHHdWGS-",
        "colab_type": "code",
        "colab": {}
      },
      "cell_type": "code",
      "source": [
        "# prepare the dataset of input to output pairs encoded as integers\n",
        "def map_patterns(text, n_chars, seq_length):\n",
        "  '''\n",
        "  parameters: text - to read,\n",
        "              n_chars - number of characters in whole file\n",
        "              seq_length - window frame to sequence file on\n",
        "  outputs: dataX - all patterns for input\n",
        "           dataY - next predicted character\n",
        "           n_patterns - number of patterns\n",
        "  '''\n",
        "    \n",
        "  # parse the sequences\n",
        "\n",
        "  dataX = []\n",
        "  dataY = []\n",
        "  for i in range(0, n_chars - seq_length, 1):\n",
        "    seq_in = text[i:i + seq_length]\n",
        "    seq_out = text[i + seq_length]\n",
        "    dataX.append([char_to_int[char] for char in seq_in])\n",
        "    dataY.append(char_to_int[seq_out])\n",
        "  n_patterns = len(dataX)\n",
        "  return (dataX, dataY, n_patterns)"
      ],
      "execution_count": 0,
      "outputs": []
    },
    {
      "metadata": {
        "id": "TecatXG6Y0gY",
        "colab_type": "code",
        "colab": {
          "base_uri": "https://localhost:8080/",
          "height": 34
        },
        "outputId": "6613d7dc-9027-4d8b-c205-0c5bc146a548"
      },
      "cell_type": "code",
      "source": [
        "# execute the map of patterns to get the dataset of input to output pairs encoded as integers\n",
        "seq_length = 100\n",
        "\n",
        "patterns_info = map_patterns(text, n_chars, seq_length)\n",
        "\n",
        "dataX = patterns_info[0]\n",
        "dataY = patterns_info[1]\n",
        "n_patterns = patterns_info[2]\n",
        "\n",
        "print(\"Total Patterns: \", n_patterns)"
      ],
      "execution_count": 18,
      "outputs": [
        {
          "output_type": "stream",
          "text": [
            "Total Patterns:  288725\n"
          ],
          "name": "stdout"
        }
      ]
    },
    {
      "metadata": {
        "id": "kgsIjcS1k2Tu",
        "colab_type": "code",
        "colab": {}
      },
      "cell_type": "code",
      "source": [
        "# save tokens to file - one pattern at a line\n",
        "def save_patterns(data, filename):\n",
        "  file = open(filename, 'w')\n",
        "  for item in data:\n",
        "    file.write(\"%s\\n\" % str(item))\n",
        "  file.close()"
      ],
      "execution_count": 0,
      "outputs": []
    },
    {
      "metadata": {
        "id": "VYHI75C7k2Dd",
        "colab_type": "code",
        "colab": {}
      },
      "cell_type": "code",
      "source": [
        "# # save patterns to file - \n",
        "# out_dataX_filename = 'wonderland_dataX.txt' # use full path to get into a certain directory\n",
        "# save_patterns(dataX, out_dataX_filename)"
      ],
      "execution_count": 0,
      "outputs": []
    },
    {
      "metadata": {
        "id": "F-bI7GC-x2AL",
        "colab_type": "code",
        "colab": {}
      },
      "cell_type": "code",
      "source": [
        "# use pickle to dump dataX pattern as binary stream\n",
        "pickle_dataX_filename = '/content/gdrive/My Drive/Colab_Notebooks/Insight_AI/data/wonderland_dataX.data'\n",
        "\n",
        "with open(pickle_dataX_filename, 'wb') as filename:  \n",
        "    # store the data as binary data stream\n",
        "    pickle.dump(dataX, filename)"
      ],
      "execution_count": 0,
      "outputs": []
    },
    {
      "metadata": {
        "id": "n3dqtBWuySMT",
        "colab_type": "code",
        "colab": {}
      },
      "cell_type": "code",
      "source": [
        "# use pickle to get dataX back - just a check\n",
        "with open(pickle_dataX_filename, 'rb') as filename:  \n",
        "    # read the data as binary data stream\n",
        "    dataX = pickle.load(filename)"
      ],
      "execution_count": 0,
      "outputs": []
    },
    {
      "metadata": {
        "id": "_SCo_RXcWboF",
        "colab_type": "code",
        "colab": {}
      },
      "cell_type": "code",
      "source": [
        "# use pickle to dump dataY pattern as binary stream\n",
        "pickle_dataY_filename = '/content/gdrive/My Drive/Colab_Notebooks/Insight_AI/data/wonderland_dataY.data'\n",
        "\n",
        "with open(pickle_dataY_filename, 'wb') as filename:  \n",
        "    # store the data as binary data stream\n",
        "    pickle.dump(dataY, filename)"
      ],
      "execution_count": 0,
      "outputs": []
    },
    {
      "metadata": {
        "id": "A-IiAA22WhYz",
        "colab_type": "code",
        "colab": {}
      },
      "cell_type": "code",
      "source": [
        "def reshape_patterns(dataX, dataY, n_patterns, n_vocab, seq_length):\n",
        "  '''\n",
        "  parameters: dataX, dataY, n_patterns, n_vocab, seq_length\n",
        "  outputs: X array - [samples, time steps, features]\n",
        "           Y array - one-hot encoded prediction\n",
        "  '''\n",
        "  \n",
        "  # reshape X to be [samples, time steps, features] for reading into keras + one-hot encode\n",
        "  X = np.reshape(dataX, (n_patterns, seq_length, 1))\n",
        "  \n",
        "  # one-hot encode the inputs\n",
        "  X = np_utils.to_categorical(X)\n",
        "  \n",
        "#   # normalize X - not necessary if doing one-hot - this implies some sort of a rank to the inputs\n",
        "#   X = X / float(n_vocab) \n",
        "  \n",
        "  # one-hot encode the output variable\n",
        "  Y = np_utils.to_categorical(dataY)\n",
        "  return (X, Y)"
      ],
      "execution_count": 0,
      "outputs": []
    },
    {
      "metadata": {
        "id": "RF33uBP5Y0AK",
        "colab_type": "code",
        "colab": {}
      },
      "cell_type": "code",
      "source": [
        "reshape_info = reshape_patterns(dataX, dataY, n_patterns, n_vocab, seq_length)\n",
        "X = reshape_info[0]\n",
        "Y = reshape_info[1]"
      ],
      "execution_count": 0,
      "outputs": []
    },
    {
      "metadata": {
        "id": "KlN1Du4PYzhR",
        "colab_type": "code",
        "colab": {
          "base_uri": "https://localhost:8080/",
          "height": 136
        },
        "outputId": "2197f1e5-bc72-4aef-a4b9-e96534a81fe1"
      },
      "cell_type": "code",
      "source": [
        "X[1]"
      ],
      "execution_count": 26,
      "outputs": [
        {
          "output_type": "execute_result",
          "data": {
            "text/plain": [
              "array([[0., 0., 0., ..., 0., 0., 0.],\n",
              "       [0., 0., 0., ..., 0., 0., 0.],\n",
              "       [0., 0., 0., ..., 0., 0., 0.],\n",
              "       ...,\n",
              "       [0., 1., 0., ..., 0., 0., 0.],\n",
              "       [0., 0., 0., ..., 0., 0., 0.],\n",
              "       [0., 0., 0., ..., 0., 0., 0.]], dtype=float32)"
            ]
          },
          "metadata": {
            "tags": []
          },
          "execution_count": 26
        }
      ]
    },
    {
      "metadata": {
        "id": "lcsbLqx3rIx3",
        "colab_type": "text"
      },
      "cell_type": "markdown",
      "source": [
        "# Define + Train + Fit Baseline LSTM Model\n",
        "\n",
        "Note on training metrics: https://machinelearningmastery.com/text-generation-lstm-recurrent-neural-networks-python-keras/\n",
        "\n",
        "There is no test dataset. We are modeling the entire training dataset to learn the probability of each character in a sequence.\n",
        "\n",
        "We are not interested in the most accurate (classification accuracy) model of the training dataset. This would be a model that predicts each character in the training dataset perfectly. Instead we are interested in a generalization of the dataset that minimizes the chosen loss function. We are seeking a balance between generalization and overfitting but short of memorization."
      ]
    },
    {
      "metadata": {
        "id": "gQGdPjYbrHC0",
        "colab_type": "code",
        "colab": {
          "base_uri": "https://localhost:8080/",
          "height": 139
        },
        "outputId": "fd241726-3369-4e7a-ba17-e7ed644f19aa"
      },
      "cell_type": "code",
      "source": [
        "# define LSTM model\n",
        "model = Sequential()\n",
        "model.add(LSTM(256, input_shape = (X.shape[1], X.shape[2])))\n",
        "model.add(Dropout(0.3))\n",
        "model.add(Dense(Y.shape[1], activation = 'softmax'))\n",
        "model.compile(loss = 'categorical_crossentropy', optimizer = 'adam', metrics = ['accuracy'])"
      ],
      "execution_count": 28,
      "outputs": [
        {
          "output_type": "stream",
          "text": [
            "WARNING:tensorflow:From /usr/local/lib/python3.6/dist-packages/tensorflow/python/framework/op_def_library.py:263: colocate_with (from tensorflow.python.framework.ops) is deprecated and will be removed in a future version.\n",
            "Instructions for updating:\n",
            "Colocations handled automatically by placer.\n",
            "WARNING:tensorflow:From /usr/local/lib/python3.6/dist-packages/keras/backend/tensorflow_backend.py:3445: calling dropout (from tensorflow.python.ops.nn_ops) with keep_prob is deprecated and will be removed in a future version.\n",
            "Instructions for updating:\n",
            "Please use `rate` instead of `keep_prob`. Rate should be set to `rate = 1 - keep_prob`.\n"
          ],
          "name": "stdout"
        }
      ]
    },
    {
      "metadata": {
        "id": "76OzxkBurGmQ",
        "colab_type": "code",
        "colab": {}
      },
      "cell_type": "code",
      "source": [
        "# define the checkpoint\n",
        "filepath=\"/content/gdrive/My Drive/Colab_Notebooks/Insight_AI/model/baseline-weights-improvement-{epoch:02d}-{loss:.4f}.hdf5\"\n",
        "checkpoint = ModelCheckpoint(filepath, monitor='loss', verbose=1, save_best_only=True, mode='min')\n",
        "callbacks_list = [checkpoint]"
      ],
      "execution_count": 0,
      "outputs": []
    },
    {
      "metadata": {
        "id": "7i_ZqbmJrF2a",
        "colab_type": "code",
        "colab": {
          "base_uri": "https://localhost:8080/",
          "height": 1448
        },
        "outputId": "22b11171-36f8-4ee6-af95-f26035962bd8"
      },
      "cell_type": "code",
      "source": [
        "# # fit the model - AVOID RUNNING AGAIN\n",
        "# history_baseline = model.fit(X, Y, epochs=20, batch_size=128, callbacks=callbacks_list)"
      ],
      "execution_count": 27,
      "outputs": [
        {
          "output_type": "stream",
          "text": [
            "WARNING:tensorflow:From /usr/local/lib/python3.6/dist-packages/tensorflow/python/ops/math_ops.py:3066: to_int32 (from tensorflow.python.ops.math_ops) is deprecated and will be removed in a future version.\n",
            "Instructions for updating:\n",
            "Use tf.cast instead.\n",
            "Epoch 1/20\n",
            "288725/288725 [==============================] - 469s 2ms/step - loss: 2.2129 - acc: 0.3764\n",
            "\n",
            "Epoch 00001: loss improved from inf to 2.21286, saving model to /content/gdrive/My Drive/Colab_Notebooks/Insight_AI/model/baseline-weights-improvement-01-2.2129.hdf5\n",
            "Epoch 2/20\n",
            "288725/288725 [==============================] - 468s 2ms/step - loss: 1.7154 - acc: 0.4977\n",
            "\n",
            "Epoch 00002: loss improved from 2.21286 to 1.71542, saving model to /content/gdrive/My Drive/Colab_Notebooks/Insight_AI/model/baseline-weights-improvement-02-1.7154.hdf5\n",
            "Epoch 3/20\n",
            "288725/288725 [==============================] - 466s 2ms/step - loss: 1.5222 - acc: 0.5473\n",
            "\n",
            "Epoch 00003: loss improved from 1.71542 to 1.52217, saving model to /content/gdrive/My Drive/Colab_Notebooks/Insight_AI/model/baseline-weights-improvement-03-1.5222.hdf5\n",
            "Epoch 4/20\n",
            "288725/288725 [==============================] - 466s 2ms/step - loss: 1.3958 - acc: 0.5804\n",
            "\n",
            "Epoch 00004: loss improved from 1.52217 to 1.39576, saving model to /content/gdrive/My Drive/Colab_Notebooks/Insight_AI/model/baseline-weights-improvement-04-1.3958.hdf5\n",
            "Epoch 5/20\n",
            "288725/288725 [==============================] - 465s 2ms/step - loss: 1.3005 - acc: 0.6068\n",
            "\n",
            "Epoch 00005: loss improved from 1.39576 to 1.30047, saving model to /content/gdrive/My Drive/Colab_Notebooks/Insight_AI/model/baseline-weights-improvement-05-1.3005.hdf5\n",
            "Epoch 6/20\n",
            "288725/288725 [==============================] - 465s 2ms/step - loss: 1.2234 - acc: 0.6271\n",
            "\n",
            "Epoch 00006: loss improved from 1.30047 to 1.22335, saving model to /content/gdrive/My Drive/Colab_Notebooks/Insight_AI/model/baseline-weights-improvement-06-1.2234.hdf5\n",
            "Epoch 7/20\n",
            "288725/288725 [==============================] - 464s 2ms/step - loss: 1.1591 - acc: 0.6428\n",
            "\n",
            "Epoch 00007: loss improved from 1.22335 to 1.15908, saving model to /content/gdrive/My Drive/Colab_Notebooks/Insight_AI/model/baseline-weights-improvement-07-1.1591.hdf5\n",
            "Epoch 8/20\n",
            "288725/288725 [==============================] - 464s 2ms/step - loss: 1.1024 - acc: 0.6595\n",
            "\n",
            "Epoch 00008: loss improved from 1.15908 to 1.10236, saving model to /content/gdrive/My Drive/Colab_Notebooks/Insight_AI/model/baseline-weights-improvement-08-1.1024.hdf5\n",
            "Epoch 9/20\n",
            "288725/288725 [==============================] - 464s 2ms/step - loss: 1.0548 - acc: 0.6717\n",
            "\n",
            "Epoch 00009: loss improved from 1.10236 to 1.05477, saving model to /content/gdrive/My Drive/Colab_Notebooks/Insight_AI/model/baseline-weights-improvement-09-1.0548.hdf5\n",
            "Epoch 10/20\n",
            "288725/288725 [==============================] - 464s 2ms/step - loss: 1.0120 - acc: 0.6835\n",
            "\n",
            "Epoch 00010: loss improved from 1.05477 to 1.01204, saving model to /content/gdrive/My Drive/Colab_Notebooks/Insight_AI/model/baseline-weights-improvement-10-1.0120.hdf5\n",
            "Epoch 11/20\n",
            "288725/288725 [==============================] - 464s 2ms/step - loss: 0.9775 - acc: 0.6930\n",
            "\n",
            "Epoch 00011: loss improved from 1.01204 to 0.97746, saving model to /content/gdrive/My Drive/Colab_Notebooks/Insight_AI/model/baseline-weights-improvement-11-0.9775.hdf5\n",
            "Epoch 12/20\n",
            "288725/288725 [==============================] - 464s 2ms/step - loss: 0.9472 - acc: 0.7018\n",
            "\n",
            "Epoch 00012: loss improved from 0.97746 to 0.94717, saving model to /content/gdrive/My Drive/Colab_Notebooks/Insight_AI/model/baseline-weights-improvement-12-0.9472.hdf5\n",
            "Epoch 13/20\n",
            "288725/288725 [==============================] - 464s 2ms/step - loss: 0.9203 - acc: 0.7080\n",
            "\n",
            "Epoch 00013: loss improved from 0.94717 to 0.92029, saving model to /content/gdrive/My Drive/Colab_Notebooks/Insight_AI/model/baseline-weights-improvement-13-0.9203.hdf5\n",
            "Epoch 14/20\n",
            "288725/288725 [==============================] - 463s 2ms/step - loss: 0.8999 - acc: 0.7144\n",
            "\n",
            "Epoch 00014: loss improved from 0.92029 to 0.89993, saving model to /content/gdrive/My Drive/Colab_Notebooks/Insight_AI/model/baseline-weights-improvement-14-0.8999.hdf5\n",
            "Epoch 15/20\n",
            "288725/288725 [==============================] - 464s 2ms/step - loss: 0.8784 - acc: 0.7199\n",
            "\n",
            "Epoch 00015: loss improved from 0.89993 to 0.87843, saving model to /content/gdrive/My Drive/Colab_Notebooks/Insight_AI/model/baseline-weights-improvement-15-0.8784.hdf5\n",
            "Epoch 16/20\n",
            "288725/288725 [==============================] - 465s 2ms/step - loss: 0.8634 - acc: 0.7240\n",
            "\n",
            "Epoch 00016: loss improved from 0.87843 to 0.86335, saving model to /content/gdrive/My Drive/Colab_Notebooks/Insight_AI/model/baseline-weights-improvement-16-0.8634.hdf5\n",
            "Epoch 17/20\n",
            "288725/288725 [==============================] - 465s 2ms/step - loss: 0.8464 - acc: 0.7293\n",
            "\n",
            "Epoch 00017: loss improved from 0.86335 to 0.84637, saving model to /content/gdrive/My Drive/Colab_Notebooks/Insight_AI/model/baseline-weights-improvement-17-0.8464.hdf5\n",
            "Epoch 18/20\n",
            "288725/288725 [==============================] - 465s 2ms/step - loss: 0.8328 - acc: 0.7335\n",
            "\n",
            "Epoch 00018: loss improved from 0.84637 to 0.83283, saving model to /content/gdrive/My Drive/Colab_Notebooks/Insight_AI/model/baseline-weights-improvement-18-0.8328.hdf5\n",
            "Epoch 19/20\n",
            "288725/288725 [==============================] - 465s 2ms/step - loss: 0.8223 - acc: 0.7350\n",
            "\n",
            "Epoch 00019: loss improved from 0.83283 to 0.82229, saving model to /content/gdrive/My Drive/Colab_Notebooks/Insight_AI/model/baseline-weights-improvement-19-0.8223.hdf5\n",
            "Epoch 20/20\n",
            "288725/288725 [==============================] - 464s 2ms/step - loss: 0.8073 - acc: 0.7406\n",
            "\n",
            "Epoch 00020: loss improved from 0.82229 to 0.80728, saving model to /content/gdrive/My Drive/Colab_Notebooks/Insight_AI/model/baseline-weights-improvement-20-0.8073.hdf5\n"
          ],
          "name": "stdout"
        }
      ]
    },
    {
      "metadata": {
        "id": "0w6Rtw09vaoL",
        "colab_type": "text"
      },
      "cell_type": "markdown",
      "source": [
        "## Plot model metrics\n",
        "\n",
        "Note on plotting: https://machinelearningmastery.com/display-deep-learning-model-training-history-in-keras/\n",
        "\n",
        "The plots can provide an indication of useful things about the training of the model, such as:\n",
        "\n",
        "- It’s speed of convergence over epochs (slope).\n",
        "- Whether the model may have already converged (plateau of the line).\n",
        "- Whether the mode may be over-learning the training data (inflection for validation line)."
      ]
    },
    {
      "metadata": {
        "id": "b21GlovXCClO",
        "colab_type": "code",
        "colab": {}
      },
      "cell_type": "code",
      "source": [
        "# list all data in history - should have pickled the history and values!\n",
        "# print(history_baseline.history.keys())"
      ],
      "execution_count": 0,
      "outputs": []
    },
    {
      "metadata": {
        "id": "5ebdIA2VxCj1",
        "colab_type": "code",
        "colab": {
          "base_uri": "https://localhost:8080/",
          "height": 573
        },
        "outputId": "68d74fd7-d987-4d0c-dca2-51608c8238f1"
      },
      "cell_type": "code",
      "source": [
        "# Plot learning and accuracy curves\n",
        "# AVOID RUNNING AGAIN if reset kernel\n",
        "\n",
        "# plot history for accuracy\n",
        "plt.plot(history_baseline.history['acc'])\n",
        "plt.title('model accuracy')\n",
        "plt.ylabel('accuracy')\n",
        "plt.xlabel('epoch')\n",
        "plt.legend(['train (no test)'], loc='upper left')\n",
        "plt.show()\n",
        "\n",
        "# summarize history for loss\n",
        "plt.plot(history_baseline.history['loss'])\n",
        "plt.title('model loss')\n",
        "plt.ylabel('loss')\n",
        "plt.xlabel('epoch')\n",
        "plt.legend(['train (no test)'], loc='upper left')\n",
        "plt.show()"
      ],
      "execution_count": 33,
      "outputs": [
        {
          "output_type": "display_data",
          "data": {
            "image/png": "[encoded data removed]",
            "text/plain": [
              "<Figure size 432x288 with 1 Axes>"
            ]
          },
          "metadata": {
            "tags": []
          }
        },
        {
          "output_type": "display_data",
          "data": {
            "image/png": "[encoded data removed]",
            "text/plain": [
              "<Figure size 432x288 with 1 Axes>"
            ]
          },
          "metadata": {
            "tags": []
          }
        }
      ]
    },
    {
      "metadata": {
        "id": "-By-zP4bxV60",
        "colab_type": "text"
      },
      "cell_type": "markdown",
      "source": [
        "# Generate Text from the LSTM Network - 1st Pass"
      ]
    },
    {
      "metadata": {
        "id": "EiJw8qDgxUfz",
        "colab_type": "code",
        "colab": {
          "base_uri": "https://localhost:8080/",
          "height": 374
        },
        "outputId": "bcb98b3c-303d-47b6-8d05-6733d1c980c6"
      },
      "cell_type": "code",
      "source": [
        "# use Drive REST API to get list of models and select the one with the lowest loss\n",
        "page_token = None\n",
        "while True:\n",
        "    response = drive_service.files().list(q=\"name contains 'weights-improvement'\",\n",
        "                                          spaces='drive',\n",
        "                                          fields='nextPageToken, files(id, name, parents)',\n",
        "                                          pageToken=page_token).execute()\n",
        "    for file in response.get('files', []):\n",
        "        # Process change\n",
        "        print('Found file: %s (id: %s) (parents: %s)' % (file.get('name'), file.get('id'), file.get('parents')))\n",
        "    page_token = response.get('nextPageToken', None)\n",
        "    if page_token is None:\n",
        "        break"
      ],
      "execution_count": 34,
      "outputs": [
        {
          "output_type": "stream",
          "text": [
            "Found file: baseline-weights-improvement-20-0.8073.hdf5 (id: 10guEFOUQw0A52n2zl4laK8gq_sa0KRo4) (parents: ['1qJL306_2_9zT2C0X6FjNylJgJqZfUJEF'])\n",
            "Found file: baseline-weights-improvement-19-0.8223.hdf5 (id: 10eNjyEWlGsZvxCapHFAkRc-o1XbiLg8y) (parents: ['1qJL306_2_9zT2C0X6FjNylJgJqZfUJEF'])\n",
            "Found file: baseline-weights-improvement-18-0.8328.hdf5 (id: 10Tvxz5aJM4HqOi0VRgAsNCUwG2iplYax) (parents: ['1qJL306_2_9zT2C0X6FjNylJgJqZfUJEF'])\n",
            "Found file: baseline-weights-improvement-17-0.8464.hdf5 (id: 10Rd_3H7ZY5YopHAR5EPOCkl7SL9NZmn6) (parents: ['1qJL306_2_9zT2C0X6FjNylJgJqZfUJEF'])\n",
            "Found file: baseline-weights-improvement-16-0.8634.hdf5 (id: 10M52JBq6aohqamIeqP__xeA37TTODqWm) (parents: ['1qJL306_2_9zT2C0X6FjNylJgJqZfUJEF'])\n",
            "Found file: baseline-weights-improvement-15-0.8784.hdf5 (id: 10KUaWSuR7lKeaE3iUqpw-y8aPGAHfELS) (parents: ['1qJL306_2_9zT2C0X6FjNylJgJqZfUJEF'])\n",
            "Found file: baseline-weights-improvement-14-0.8999.hdf5 (id: 10IuT2jnMVz1PoGe8hYNwfeQlX2OntlTl) (parents: ['1qJL306_2_9zT2C0X6FjNylJgJqZfUJEF'])\n",
            "Found file: baseline-weights-improvement-13-0.9203.hdf5 (id: 10I3paDqzjO4XVJyaMKHJ1M552McQI3zf) (parents: ['1qJL306_2_9zT2C0X6FjNylJgJqZfUJEF'])\n",
            "Found file: baseline-weights-improvement-12-0.9472.hdf5 (id: 10EwvYiXZHUxsAsfLaoWAENacmHnYf9xV) (parents: ['1qJL306_2_9zT2C0X6FjNylJgJqZfUJEF'])\n",
            "Found file: baseline-weights-improvement-11-0.9775.hdf5 (id: 10EDQTiBKtvvCbKS4nXVbx96h2bSFBgqK) (parents: ['1qJL306_2_9zT2C0X6FjNylJgJqZfUJEF'])\n",
            "Found file: baseline-weights-improvement-10-1.0120.hdf5 (id: 10A2mAimqJdHnks6FcvzzfUDr16pQrKwh) (parents: ['1qJL306_2_9zT2C0X6FjNylJgJqZfUJEF'])\n",
            "Found file: baseline-weights-improvement-09-1.0548.hdf5 (id: 108ZF1FTPhCrqIDQtE-QYD5Htvh5vSQup) (parents: ['1qJL306_2_9zT2C0X6FjNylJgJqZfUJEF'])\n",
            "Found file: baseline-weights-improvement-08-1.1024.hdf5 (id: 1048t-P7YpLC8_Yw8VYanMnD1hJa2bwLn) (parents: ['1qJL306_2_9zT2C0X6FjNylJgJqZfUJEF'])\n",
            "Found file: baseline-weights-improvement-07-1.1591.hdf5 (id: 102FNIKlluEVsNHx8x2bRfO7wcQPeaKoR) (parents: ['1qJL306_2_9zT2C0X6FjNylJgJqZfUJEF'])\n",
            "Found file: baseline-weights-improvement-06-1.2234.hdf5 (id: 1-zdavdD91lDLDVdnPI84KVCqWna8Xs2n) (parents: ['1qJL306_2_9zT2C0X6FjNylJgJqZfUJEF'])\n",
            "Found file: baseline-weights-improvement-05-1.3005.hdf5 (id: 1-sOtYACJPHJpSAMEZkdhmmHdIKOlbaMQ) (parents: ['1qJL306_2_9zT2C0X6FjNylJgJqZfUJEF'])\n",
            "Found file: baseline-weights-improvement-04-1.3958.hdf5 (id: 1-kZiP9w8puAY4MYPq2bff8fkFUpb-Gjc) (parents: ['1qJL306_2_9zT2C0X6FjNylJgJqZfUJEF'])\n",
            "Found file: baseline-weights-improvement-03-1.5222.hdf5 (id: 1-ismFsCEELPoihXqY33Hw5qThzggg1Tr) (parents: ['1qJL306_2_9zT2C0X6FjNylJgJqZfUJEF'])\n",
            "Found file: baseline-weights-improvement-02-1.7154.hdf5 (id: 1-dvBNWyUr_abOwbJ54SxoEBIoD2Cn8Gk) (parents: ['1qJL306_2_9zT2C0X6FjNylJgJqZfUJEF'])\n",
            "Found file: baseline-weights-improvement-01-2.2129.hdf5 (id: 1-S8evyayZXxRb6IwGfC6g_tPLxiJ6nmO) (parents: ['1qJL306_2_9zT2C0X6FjNylJgJqZfUJEF'])\n",
            "Found file: baseline-weights-improvement-01-2.9097.hdf5 (id: 1-Rre4V5m2HGH-JweDyHUObpeKKcTXPGg) (parents: ['1qJL306_2_9zT2C0X6FjNylJgJqZfUJEF'])\n"
          ],
          "name": "stdout"
        }
      ]
    },
    {
      "metadata": {
        "id": "bXu05Zf2w9BY",
        "colab_type": "code",
        "colab": {}
      },
      "cell_type": "code",
      "source": [
        "# load the network weights by manually finding the model with the lowest loss above\n",
        "model_filename = \"/content/gdrive/My Drive/Colab_Notebooks/Insight_AI/model/baseline-weights-improvement-20-0.8073.hdf5\"\n",
        "model.load_weights(model_filename)\n",
        "model.compile(loss='categorical_crossentropy', optimizer='adam', metrics=['accuracy'])"
      ],
      "execution_count": 0,
      "outputs": []
    },
    {
      "metadata": {
        "id": "dB5DHT-ay-N0",
        "colab_type": "code",
        "colab": {
          "base_uri": "https://localhost:8080/",
          "height": 34
        },
        "outputId": "d42a59df-a4f8-4254-f850-dd6812900895"
      },
      "cell_type": "code",
      "source": [
        "# check X's shape for transformation of dataX to one-hot\n",
        "X.shape"
      ],
      "execution_count": 150,
      "outputs": [
        {
          "output_type": "execute_result",
          "data": {
            "text/plain": [
              "(288725, 100, 47)"
            ]
          },
          "metadata": {
            "tags": []
          },
          "execution_count": 150
        }
      ]
    },
    {
      "metadata": {
        "id": "7ROSBs0x_R0d",
        "colab_type": "code",
        "colab": {
          "base_uri": "https://localhost:8080/",
          "height": 34
        },
        "outputId": "dbce36c6-1565-4117-9493-1f81d78471f0"
      },
      "cell_type": "code",
      "source": [
        "np.reshape(pattern, (1, 100, 1)).shape"
      ],
      "execution_count": 181,
      "outputs": [
        {
          "output_type": "execute_result",
          "data": {
            "text/plain": [
              "(1, 100, 1)"
            ]
          },
          "metadata": {
            "tags": []
          },
          "execution_count": 181
        }
      ]
    },
    {
      "metadata": {
        "id": "XQ93SJw4x7eR",
        "colab_type": "code",
        "colab": {
          "base_uri": "https://localhost:8080/",
          "height": 510
        },
        "outputId": "0eca5b9e-4572-4f08-87c8-fca35c9a8bd5"
      },
      "cell_type": "code",
      "source": [
        "# generate seed for priming\n",
        "\n",
        "# pick a random seed\n",
        "start = np.random.randint(0, len(dataX) - 1)\n",
        "pattern = dataX[start]\n",
        "print(\"SEED:\\n\")\n",
        "print(\"\\\"\", ''.join([int_to_char[value] for value in pattern]), \"\\\"\")\n",
        "\n",
        "# generate prediction!!!\n",
        "\n",
        "# model.predict is expecting input shape (100, 47) - dataX is a list of lists - pattern will be array (100, 1), while X is a transformed array (100, 47)\n",
        "\n",
        "# choose prediction length\n",
        "text_length = 1000\n",
        "\n",
        "print(\"\\nHERE'S YOUR GENERATED TEXT: \\n\")\n",
        "# generate characters\n",
        "for i in range(text_length):\n",
        "  x = np.reshape(pattern, (1, len(pattern), 1))\n",
        "#   x = x / float(n_vocab) # only if normalized - using one-hot instead\t\n",
        "  x = np_utils.to_categorical(x, num_classes=X.shape[2]) # one-hot encoding\n",
        "  prediction = model.predict(x, verbose=0)\n",
        "  index = np.argmax(prediction)\n",
        "  result = int_to_char[index]\n",
        "  seq_in = [int_to_char[value] for value in pattern]\n",
        "  sys.stdout.write(result)\n",
        "  pattern.append(index)\n",
        "  pattern = pattern[1:len(pattern)]\n",
        "print(\"\\nDone.\")"
      ],
      "execution_count": 164,
      "outputs": [
        {
          "output_type": "stream",
          "text": [
            "SEED:\n",
            "\n",
            "\" he soon\n",
            "made out that she was in the pool of tears which she had wept when she\n",
            "was nine feet high.\n",
            "\n",
            " \"\n",
            "\n",
            "HERE'S YOUR GENERATED TEXT: \n",
            "\n",
            "‘i wish i hadn’t gone about it,’ said alice.\n",
            "\n",
            "‘it may have any more than that,’ said the caterpillar.\n",
            "\n",
            "‘well, i what a dided the arches, i should think,’ said alice, ‘i managed to see after that it does and the march hare.\n",
            "\n",
            "  ‘it may be off, in that door, i shall see at the end of the stir--of course, what a but on her such as me the hatter\n",
            "wordered about that in the same and me nive about it, and thinking when they all the thing thing the pool a little bottle\n",
            "without a little way off, and the white rabbit was she went on, ‘and that’s all the treacle, but she would go to the\n",
            "conversation, and see shake she had any\n",
            "door as she was spraising a little starts, and the oncees of the trees and a pleased tone, ‘there’s no use in the simpled\n",
            "sounder!’ (when she thought to her feet at the thing it had been and looked at the\n",
            "bany, and the white rabbit was she went on, ‘and that’s all the treacle, but she windon,\n",
            "you know.’\n",
            "\n",
            "‘i don’t know what i say your haid,’ said the mock turtle angrily.\n",
            "\n",
            "‘i b\n",
            "Done.\n"
          ],
          "name": "stdout"
        }
      ]
    },
    {
      "metadata": {
        "id": "1RZBx_gxAnec",
        "colab_type": "text"
      },
      "cell_type": "markdown",
      "source": [
        "# Revised Model\n",
        "\n",
        "## Build a larger model, but smartly...\n",
        "\n",
        "Some considerations:\n",
        "\n",
        "- Increasing the number of epochs will help - the loss decreased every epoch in the baseline - though learning seems to be leveling off\n",
        "- Adding layers will help give the model opportunity to learn\n",
        "- Decreasing the batch size will also give the model the opportunity to learn in smaller chunks\n",
        "- We're training on random sequences of characters, so masking or padding sentences not necessary (unless we were training at the word or sentence level) \n",
        "- Adding an embedding layer will add context for more similar character sequences - this will need manipulation to change the X input array from 3d to 2d\n",
        "\n"
      ]
    },
    {
      "metadata": {
        "id": "h4rQuu6UAoz9",
        "colab_type": "code",
        "colab": {
          "base_uri": "https://localhost:8080/",
          "height": 34
        },
        "outputId": "d855ff4f-e073-4951-9c5b-a1c5a8fdcd76"
      },
      "cell_type": "code",
      "source": [
        "callbacks_list"
      ],
      "execution_count": 32,
      "outputs": [
        {
          "output_type": "execute_result",
          "data": {
            "text/plain": [
              "[<keras.callbacks.ModelCheckpoint at 0x7f555ba2e828>]"
            ]
          },
          "metadata": {
            "tags": []
          },
          "execution_count": 32
        }
      ]
    },
    {
      "metadata": {
        "id": "atuEJDJ-A02n",
        "colab_type": "code",
        "colab": {
          "base_uri": "https://localhost:8080/",
          "height": 323
        },
        "outputId": "2bfa5eb3-98db-47b0-ba9b-b8cb7c4ce7ee"
      },
      "cell_type": "code",
      "source": [
        "# define the v2 model\n",
        "model = Sequential()\n",
        "#model.add(Embedding(n_vocab, 50, input_length=seq_length)) # embedding needs to know size of vocab and input length, how many dimensions to model each char/word on - would need to eliminate one-hot to make this work\n",
        "model.add(LSTM(256, input_shape=(X.shape[1], X.shape[2]), return_sequences=True))\n",
        "model.add(Dropout(0.3))\n",
        "model.add(LSTM(256))\n",
        "model.add(Dropout(0.3))\n",
        "model.add(Dense(Y.shape[1], activation='softmax'))\n",
        "print(model.summary())"
      ],
      "execution_count": 60,
      "outputs": [
        {
          "output_type": "stream",
          "text": [
            "_________________________________________________________________\n",
            "Layer (type)                 Output Shape              Param #   \n",
            "=================================================================\n",
            "lstm_20 (LSTM)               (None, 100, 256)          311296    \n",
            "_________________________________________________________________\n",
            "dropout_20 (Dropout)         (None, 100, 256)          0         \n",
            "_________________________________________________________________\n",
            "lstm_21 (LSTM)               (None, 256)               525312    \n",
            "_________________________________________________________________\n",
            "dropout_21 (Dropout)         (None, 256)               0         \n",
            "_________________________________________________________________\n",
            "dense_11 (Dense)             (None, 47)                12079     \n",
            "=================================================================\n",
            "Total params: 848,687\n",
            "Trainable params: 848,687\n",
            "Non-trainable params: 0\n",
            "_________________________________________________________________\n",
            "None\n"
          ],
          "name": "stdout"
        }
      ]
    },
    {
      "metadata": {
        "id": "pVMDYg6adBFc",
        "colab_type": "code",
        "colab": {}
      },
      "cell_type": "code",
      "source": [
        "# compile v2 model\n",
        "model.compile(loss='categorical_crossentropy', optimizer='adam', metrics = ['accuracy'])"
      ],
      "execution_count": 0,
      "outputs": []
    },
    {
      "metadata": {
        "id": "ZI52npLjA1FH",
        "colab_type": "code",
        "colab": {}
      },
      "cell_type": "code",
      "source": [
        "# define the checkpoint for v2 model\n",
        "filepath = \"/content/gdrive/My Drive/Colab_Notebooks/Insight_AI/model/v2-weights-improvement-{epoch:02d}-{loss:.4f}.hdf5\"\n",
        "checkpoint_v2 = ModelCheckpoint(filepath, monitor='loss', verbose=1, save_best_only=True, mode='min')\n",
        "callbacks_list_v2 = [checkpoint_v2]"
      ],
      "execution_count": 0,
      "outputs": []
    },
    {
      "metadata": {
        "id": "mPTQfMJkYcRL",
        "colab_type": "code",
        "colab": {}
      },
      "cell_type": "code",
      "source": [
        "# fit the v2 model\n",
        "model.fit(X, Y, epochs=30, batch_size=64, callbacks=callbacks_list)"
      ],
      "execution_count": 0,
      "outputs": []
    },
    {
      "metadata": {
        "id": "sg-Z5jm82pFN",
        "colab_type": "text"
      },
      "cell_type": "markdown",
      "source": [
        "# Generate Text Using Model v2"
      ]
    },
    {
      "metadata": {
        "id": "uaYfekn3YchH",
        "colab_type": "code",
        "colab": {
          "base_uri": "https://localhost:8080/",
          "height": 765
        },
        "outputId": "1134c500-e497-444c-ed42-6f73864022f0"
      },
      "cell_type": "code",
      "source": [
        "# use Drive REST API to get list of models and select the one with the lowest loss\n",
        "page_token = None\n",
        "while True:\n",
        "    response = drive_service.files().list(q=\"name contains 'weights-improvement'\",\n",
        "                                          spaces='drive',\n",
        "                                          fields='nextPageToken, files(id, name, parents)',\n",
        "                                          pageToken=page_token).execute()\n",
        "    for file in response.get('files', []):\n",
        "        # Process change\n",
        "        print('Found file: %s (id: %s) (parents: %s)' % (file.get('name'), file.get('id'), file.get('parents')))\n",
        "    page_token = response.get('nextPageToken', None)\n",
        "    if page_token is None:\n",
        "        break"
      ],
      "execution_count": 66,
      "outputs": [
        {
          "output_type": "stream",
          "text": [
            "Found file: baseline-weights-improvement-23-0.7820.hdf5 (id: 10T6dIxCFnMTb_2gg6eSL-rADsGCK7qQn) (parents: ['1qJL306_2_9zT2C0X6FjNylJgJqZfUJEF'])\n",
            "Found file: baseline-weights-improvement-22-0.7963.hdf5 (id: 10LZz7JC26EvBrvGuRihZ-xXgGfdymaMP) (parents: ['1qJL306_2_9zT2C0X6FjNylJgJqZfUJEF'])\n",
            "Found file: baseline-weights-improvement-21-0.8050.hdf5 (id: 10Gdv-hRWYS8j_whXs8oHc_mLs3JRJoNU) (parents: ['1qJL306_2_9zT2C0X6FjNylJgJqZfUJEF'])\n",
            "Found file: baseline-weights-improvement-20-0.8136.hdf5 (id: 10DJQIXPWT56CgrOVEftiVfPQ90nVUkIn) (parents: ['1qJL306_2_9zT2C0X6FjNylJgJqZfUJEF'])\n",
            "Found file: baseline-weights-improvement-19-0.8278.hdf5 (id: 10AMJprRWVO3MvFDrny4Dh8bC0SXRn7J3) (parents: ['1qJL306_2_9zT2C0X6FjNylJgJqZfUJEF'])\n",
            "Found file: baseline-weights-improvement-18-0.8367.hdf5 (id: 105MbLrxcOxiy9ZQU4b5FQ9tug5Ug4fX_) (parents: ['1qJL306_2_9zT2C0X6FjNylJgJqZfUJEF'])\n",
            "Found file: baseline-weights-improvement-17-0.8522.hdf5 (id: 104zww-Zt06cC2sWyboG6bxe_AyFPB5mz) (parents: ['1qJL306_2_9zT2C0X6FjNylJgJqZfUJEF'])\n",
            "Found file: baseline-weights-improvement-16-0.8658.hdf5 (id: 1-xlGkLTtUJk1HxbCN1Drnpba1YDQa0_S) (parents: ['1qJL306_2_9zT2C0X6FjNylJgJqZfUJEF'])\n",
            "Found file: baseline-weights-improvement-15-0.8816.hdf5 (id: 1-ua4nCmzndiobcZd1xH6cL2e0G1wZMz9) (parents: ['1qJL306_2_9zT2C0X6FjNylJgJqZfUJEF'])\n",
            "Found file: baseline-weights-improvement-14-0.8965.hdf5 (id: 1-oTHUSVbOEdUUxYhChKwTV-5JMwusAOy) (parents: ['1qJL306_2_9zT2C0X6FjNylJgJqZfUJEF'])\n",
            "Found file: baseline-weights-improvement-13-0.9132.hdf5 (id: 1-ky3F3vyQP9uGUbLz3K5Pyu6EF8HFqjF) (parents: ['1qJL306_2_9zT2C0X6FjNylJgJqZfUJEF'])\n",
            "Found file: baseline-weights-improvement-12-0.9309.hdf5 (id: 1-jiAPO3DTAcIj9PV9e1YKErzSAwcWHeD) (parents: ['1qJL306_2_9zT2C0X6FjNylJgJqZfUJEF'])\n",
            "Found file: baseline-weights-improvement-11-0.9544.hdf5 (id: 1-bvboBkkwaUOn-IuWPaSIC5j2XVkYX1t) (parents: ['1qJL306_2_9zT2C0X6FjNylJgJqZfUJEF'])\n",
            "Found file: baseline-weights-improvement-10-0.9792.hdf5 (id: 1-Y1zZYYjzY06IIl8MsBMG_ik_YSh6kMe) (parents: ['1qJL306_2_9zT2C0X6FjNylJgJqZfUJEF'])\n",
            "Found file: baseline-weights-improvement-09-1.0061.hdf5 (id: 1-Vsgs2PVBZ12bzWLKE6wO-2_uZSg_Qng) (parents: ['1qJL306_2_9zT2C0X6FjNylJgJqZfUJEF'])\n",
            "Found file: baseline-weights-improvement-08-1.0381.hdf5 (id: 1-RQr7rFinVoUSxXpdSABrGImAN7LY8LC) (parents: ['1qJL306_2_9zT2C0X6FjNylJgJqZfUJEF'])\n",
            "Found file: baseline-weights-improvement-07-1.0747.hdf5 (id: 1-PvRKz_r5nRfWiKNzm1VR35XsW5WLdxi) (parents: ['1qJL306_2_9zT2C0X6FjNylJgJqZfUJEF'])\n",
            "Found file: baseline-weights-improvement-06-1.1200.hdf5 (id: 1-FUBQR-q9Emt7LVlKy3KEXX27eh60nsQ) (parents: ['1qJL306_2_9zT2C0X6FjNylJgJqZfUJEF'])\n",
            "Found file: baseline-weights-improvement-05-1.1769.hdf5 (id: 1-6fqkMoTL8iP_zYQegrMSB3S0WjzS4kg) (parents: ['1qJL306_2_9zT2C0X6FjNylJgJqZfUJEF'])\n",
            "Found file: baseline-weights-improvement-04-1.2450.hdf5 (id: 1-32x8qF1ss9fuWLtxUB9R4VLMPS1VkMI) (parents: ['1qJL306_2_9zT2C0X6FjNylJgJqZfUJEF'])\n",
            "Found file: baseline-weights-improvement-03-1.3420.hdf5 (id: 1-1-Yt2_rozEP0lPRwPKGDtOPfydQS_ol) (parents: ['1qJL306_2_9zT2C0X6FjNylJgJqZfUJEF'])\n",
            "Found file: baseline-weights-improvement-02-1.5053.hdf5 (id: 1-0eDeI2T59pZqI1NrMTS_MED-u1ImRMv) (parents: ['1qJL306_2_9zT2C0X6FjNylJgJqZfUJEF'])\n",
            "Found file: baseline-weights-improvement-01-1.9959.hdf5 (id: 1ZegSil07N5w66L5FEWqQ1_oIVAbmAx-H) (parents: ['1qJL306_2_9zT2C0X6FjNylJgJqZfUJEF'])\n",
            "Found file: baseline-weights-improvement-20-0.8073.hdf5 (id: 10guEFOUQw0A52n2zl4laK8gq_sa0KRo4) (parents: ['1qJL306_2_9zT2C0X6FjNylJgJqZfUJEF'])\n",
            "Found file: baseline-weights-improvement-19-0.8223.hdf5 (id: 10eNjyEWlGsZvxCapHFAkRc-o1XbiLg8y) (parents: ['1qJL306_2_9zT2C0X6FjNylJgJqZfUJEF'])\n",
            "Found file: baseline-weights-improvement-18-0.8328.hdf5 (id: 10Tvxz5aJM4HqOi0VRgAsNCUwG2iplYax) (parents: ['1qJL306_2_9zT2C0X6FjNylJgJqZfUJEF'])\n",
            "Found file: baseline-weights-improvement-17-0.8464.hdf5 (id: 10Rd_3H7ZY5YopHAR5EPOCkl7SL9NZmn6) (parents: ['1qJL306_2_9zT2C0X6FjNylJgJqZfUJEF'])\n",
            "Found file: baseline-weights-improvement-16-0.8634.hdf5 (id: 10M52JBq6aohqamIeqP__xeA37TTODqWm) (parents: ['1qJL306_2_9zT2C0X6FjNylJgJqZfUJEF'])\n",
            "Found file: baseline-weights-improvement-15-0.8784.hdf5 (id: 10KUaWSuR7lKeaE3iUqpw-y8aPGAHfELS) (parents: ['1qJL306_2_9zT2C0X6FjNylJgJqZfUJEF'])\n",
            "Found file: baseline-weights-improvement-14-0.8999.hdf5 (id: 10IuT2jnMVz1PoGe8hYNwfeQlX2OntlTl) (parents: ['1qJL306_2_9zT2C0X6FjNylJgJqZfUJEF'])\n",
            "Found file: baseline-weights-improvement-13-0.9203.hdf5 (id: 10I3paDqzjO4XVJyaMKHJ1M552McQI3zf) (parents: ['1qJL306_2_9zT2C0X6FjNylJgJqZfUJEF'])\n",
            "Found file: baseline-weights-improvement-12-0.9472.hdf5 (id: 10EwvYiXZHUxsAsfLaoWAENacmHnYf9xV) (parents: ['1qJL306_2_9zT2C0X6FjNylJgJqZfUJEF'])\n",
            "Found file: baseline-weights-improvement-11-0.9775.hdf5 (id: 10EDQTiBKtvvCbKS4nXVbx96h2bSFBgqK) (parents: ['1qJL306_2_9zT2C0X6FjNylJgJqZfUJEF'])\n",
            "Found file: baseline-weights-improvement-10-1.0120.hdf5 (id: 10A2mAimqJdHnks6FcvzzfUDr16pQrKwh) (parents: ['1qJL306_2_9zT2C0X6FjNylJgJqZfUJEF'])\n",
            "Found file: baseline-weights-improvement-09-1.0548.hdf5 (id: 108ZF1FTPhCrqIDQtE-QYD5Htvh5vSQup) (parents: ['1qJL306_2_9zT2C0X6FjNylJgJqZfUJEF'])\n",
            "Found file: baseline-weights-improvement-08-1.1024.hdf5 (id: 1048t-P7YpLC8_Yw8VYanMnD1hJa2bwLn) (parents: ['1qJL306_2_9zT2C0X6FjNylJgJqZfUJEF'])\n",
            "Found file: baseline-weights-improvement-07-1.1591.hdf5 (id: 102FNIKlluEVsNHx8x2bRfO7wcQPeaKoR) (parents: ['1qJL306_2_9zT2C0X6FjNylJgJqZfUJEF'])\n",
            "Found file: baseline-weights-improvement-06-1.2234.hdf5 (id: 1-zdavdD91lDLDVdnPI84KVCqWna8Xs2n) (parents: ['1qJL306_2_9zT2C0X6FjNylJgJqZfUJEF'])\n",
            "Found file: baseline-weights-improvement-05-1.3005.hdf5 (id: 1-sOtYACJPHJpSAMEZkdhmmHdIKOlbaMQ) (parents: ['1qJL306_2_9zT2C0X6FjNylJgJqZfUJEF'])\n",
            "Found file: baseline-weights-improvement-04-1.3958.hdf5 (id: 1-kZiP9w8puAY4MYPq2bff8fkFUpb-Gjc) (parents: ['1qJL306_2_9zT2C0X6FjNylJgJqZfUJEF'])\n",
            "Found file: baseline-weights-improvement-03-1.5222.hdf5 (id: 1-ismFsCEELPoihXqY33Hw5qThzggg1Tr) (parents: ['1qJL306_2_9zT2C0X6FjNylJgJqZfUJEF'])\n",
            "Found file: baseline-weights-improvement-02-1.7154.hdf5 (id: 1-dvBNWyUr_abOwbJ54SxoEBIoD2Cn8Gk) (parents: ['1qJL306_2_9zT2C0X6FjNylJgJqZfUJEF'])\n",
            "Found file: baseline-weights-improvement-01-2.2129.hdf5 (id: 1-S8evyayZXxRb6IwGfC6g_tPLxiJ6nmO) (parents: ['1qJL306_2_9zT2C0X6FjNylJgJqZfUJEF'])\n",
            "Found file: baseline-weights-improvement-01-2.9097.hdf5 (id: 1-Rre4V5m2HGH-JweDyHUObpeKKcTXPGg) (parents: ['1qJL306_2_9zT2C0X6FjNylJgJqZfUJEF'])\n"
          ],
          "name": "stdout"
        }
      ]
    },
    {
      "metadata": {
        "id": "VSPEsW5-2bF0",
        "colab_type": "code",
        "colab": {}
      },
      "cell_type": "code",
      "source": [
        "# load the network weights by manually finding the model with the lowest loss above\n",
        "model_filename = \"/content/gdrive/My Drive/Colab_Notebooks/Insight_AI/model/baseline-weights-improvement-23-0.7820.hdf5\"\n",
        "model.load_weights(model_filename)\n",
        "model.compile(loss='categorical_crossentropy', optimizer='adam', metrics=['accuracy'])"
      ],
      "execution_count": 0,
      "outputs": []
    },
    {
      "metadata": {
        "id": "O-PkQBdL2bTp",
        "colab_type": "code",
        "colab": {
          "base_uri": "https://localhost:8080/",
          "height": 360
        },
        "outputId": "e06cd888-38f4-439d-c185-8da9bcee167c"
      },
      "cell_type": "code",
      "source": [
        "# generate seed for priming\n",
        "\n",
        "# pick a random seed\n",
        "start = np.random.randint(0, len(dataX) - 1)\n",
        "pattern = dataX[start]\n",
        "print(\"SEED:\\n\")\n",
        "print(\"\\\"\", ''.join([int_to_char[value] for value in pattern]), \"\\\"\")\n",
        "\n",
        "# generate prediction!!!\n",
        "\n",
        "# model.predict is expecting input shape (100, 47) - dataX is a list of lists - pattern will be array (100, 1), while X is a transformed array (100, 47)\n",
        "\n",
        "# choose prediction length\n",
        "text_length = 1000\n",
        "\n",
        "print(\"\\nHERE'S YOUR GENERATED TEXT: \\n\")\n",
        "# generate characters\n",
        "for i in range(text_length):\n",
        "  x = np.reshape(pattern, (1, len(pattern), 1))\n",
        "#   x = x / float(n_vocab) # only if normalized - using one-hot instead\t\n",
        "  x = np_utils.to_categorical(x, num_classes=X.shape[2]) # one-hot encoding\n",
        "  prediction = model.predict(x, verbose=0)\n",
        "  index = np.argmax(prediction)\n",
        "  result = int_to_char[index]\n",
        "  seq_in = [int_to_char[value] for value in pattern]\n",
        "  sys.stdout.write(result)\n",
        "  pattern.append(index)\n",
        "  pattern = pattern[1:len(pattern)]\n",
        "print(\"\\nDone.\")"
      ],
      "execution_count": 68,
      "outputs": [
        {
          "output_type": "stream",
          "text": [
            "SEED:\n",
            "\n",
            "\" ed in getting its body tucked away, comfortably enough, under\n",
            "her arm, with its legs hanging down, b \"\n",
            "\n",
            "HERE'S YOUR GENERATED TEXT: \n",
            "\n",
            "ut she found herself she had found that she had found the first witness as she spoke. ‘i don’t think it was a little door--’\n",
            "\n",
            "‘what did they draw what i say “who is this morning, and i’m afraid i can’t remember her sentence in the sea. the mock turtle seems to be true),\n",
            "    and don’t believe it a little bird as she spoke, and the moral of that is--“the first witness!’ thought alice, ‘and the sea--’\n",
            "\n",
            "‘what is the first witness,’ said the king, ‘that saves a world of treach, and she’s so much as she could go through,’ said alice, ‘what a cart of things a little birds and business to this, and that is--“the first witness!’\n",
            "\n",
            "‘you can’t help it,’ said alice as she had a confusion, that she had not gone to see it was the first words off.\n",
            "\n",
            "‘what do you know what i say “who is the first way in the sea, that it is all the right size down the sea, that it was a little golden key, and the moment she was so she\n",
            "felt a little bit of stick, and the queen was so sharking at the caterpillar and the mo\n",
            "Done.\n"
          ],
          "name": "stdout"
        }
      ]
    },
    {
      "metadata": {
        "id": "Ni5CeNQRYcs4",
        "colab_type": "code",
        "colab": {}
      },
      "cell_type": "code",
      "source": [
        ""
      ],
      "execution_count": 0,
      "outputs": []
    },
    {
      "metadata": {
        "id": "jrXgRyTuX2TT",
        "colab_type": "code",
        "colab": {}
      },
      "cell_type": "code",
      "source": [
        ""
      ],
      "execution_count": 0,
      "outputs": []
    },
    {
      "metadata": {
        "id": "VWzvpawRX2ie",
        "colab_type": "code",
        "colab": {}
      },
      "cell_type": "code",
      "source": [
        ""
      ],
      "execution_count": 0,
      "outputs": []
    },
    {
      "metadata": {
        "id": "KbwHuqMPAn-2",
        "colab_type": "text"
      },
      "cell_type": "markdown",
      "source": [
        "# Extensions\n",
        "\n",
        "- Predicting fewer characters will help (the model seems to lose memory after ~200 chars)\n",
        "- Losing punctuaction will make the model parameters more sparse and preserve memory for input, but accordingly the hidden layers will also need to be more dense\n",
        "- Explore character embeddings for named entity recognition - may only be applicable for word-based models?\n",
        "- Try training word-based or sentence-based model on padded sentences\n",
        "- Add more memory units/layers\n",
        "- Make the model stateful to allow last batch from one set of batches to be followed by the next actual batch (X_n followed by X_n+1 - i.e. no shuffling)\n"
      ]
    },
    {
      "metadata": {
        "id": "99z1C8J4X1cS",
        "colab_type": "text"
      },
      "cell_type": "markdown",
      "source": [
        "# Testing Area"
      ]
    },
    {
      "metadata": {
        "id": "PnKbxEC16qgE",
        "colab_type": "code",
        "colab": {}
      },
      "cell_type": "code",
      "source": [
        ""
      ],
      "execution_count": 0,
      "outputs": []
    }
  ]
}